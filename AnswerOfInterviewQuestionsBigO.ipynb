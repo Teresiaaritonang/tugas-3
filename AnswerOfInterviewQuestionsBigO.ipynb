{
  "nbformat": 4,
  "nbformat_minor": 0,
  "metadata": {
    "colab": {
      "provenance": []
    },
    "kernelspec": {
      "name": "python3",
      "display_name": "Python 3"
    },
    "language_info": {
      "name": "python"
    }
  },
  "cells": [
    {
      "cell_type": "code",
      "execution_count": 1,
      "metadata": {
        "colab": {
          "base_uri": "https://localhost:8080/"
        },
        "id": "T7a8I0qP3h6x",
        "outputId": "6ead9dca-c59a-4c3f-d902-e1cd6e8dac6e"
      },
      "outputs": [
        {
          "output_type": "stream",
          "name": "stdout",
          "text": [
            "Sum = 10, Product = 24\n"
          ]
        }
      ],
      "source": [
        "#Question1\n",
        "def foo(array):\n",
        "    sum = 0\n",
        "    product = 1\n",
        "    for i in array:\n",
        "        sum += i\n",
        "    for i in array:\n",
        "        product *= i\n",
        "    print(\"Sum = \"+str(sum)+\", Product = \"+str(product))\n",
        "\n",
        "ar1 = [1,2,3,4]\n",
        "foo(ar1)"
      ]
    },
    {
      "cell_type": "code",
      "source": [
        "#Question2\n",
        "\n",
        "def printPairs(array):\n",
        "    for i in array:\n",
        "        for j in array:\n",
        "            print(str(i)+\",\"+str(j))\n"
      ],
      "metadata": {
        "id": "zvtiTNXs3p4s"
      },
      "execution_count": 3,
      "outputs": []
    },
    {
      "cell_type": "code",
      "source": [
        "#Question3\n",
        "def printUnorderedPairs(array):\n",
        "    for i in range(0,len(array)):\n",
        "        for j in range(i+1,len(array)):\n",
        "            print(array[i] + \",\" + array[j])"
      ],
      "metadata": {
        "id": "mqFtMb2h3yZp"
      },
      "execution_count": 4,
      "outputs": []
    },
    {
      "cell_type": "code",
      "source": [
        "#Question4\n",
        "def printUnorderedPairs(arrayA, arrayB):\n",
        "    for i in range(len(arrayA)):\n",
        "        for j in range(len(arrayB)):\n",
        "            if arrayA[i] < arrayB[j]:\n",
        "                print(str(arrayA[i]) + \",\" + str(arrayB[j]))\n",
        "\n",
        "arrayA = [1,2,3,4,5]\n",
        "arrayB = [2,6,7,8]"
      ],
      "metadata": {
        "id": "kPiNFDNW36GW"
      },
      "execution_count": 5,
      "outputs": []
    },
    {
      "cell_type": "code",
      "source": [
        "#Question5\n",
        "def printUnorderedPairs(arrayA, arrayB):\n",
        "    for i in range(len(arrayA)):\n",
        "        for j in range(len(arrayB)):\n",
        "            for k in range(0,100000):\n",
        "                print(str(arrayA[i]) + \",\" + str(arrayB[j]))\n",
        "\n",
        "# printUnorderedPairss(arrayA,arrayB)"
      ],
      "metadata": {
        "id": "82d-D3dK3-ke"
      },
      "execution_count": 9,
      "outputs": []
    },
    {
      "cell_type": "code",
      "source": [
        "#Question6\n",
        "def reverse(array):\n",
        "    for i in range(0,int(len(array)/2)):\n",
        "        other = len(array)-i-1\n",
        "        temp = array[i]\n",
        "        array[i] = array[other]\n",
        "        array[other] = temp\n",
        "    print(array)\n",
        "\n",
        "reverse(arrayA)"
      ],
      "metadata": {
        "colab": {
          "base_uri": "https://localhost:8080/"
        },
        "id": "zlDeKSrE4DST",
        "outputId": "26f05109-a2ed-494d-e6fc-fa3dd6706d7c"
      },
      "execution_count": 10,
      "outputs": [
        {
          "output_type": "stream",
          "name": "stdout",
          "text": [
            "[5, 4, 3, 2, 1]\n"
          ]
        }
      ]
    },
    {
      "cell_type": "code",
      "source": [
        "#Question8\n",
        "\n",
        "def factorial(n):\n",
        "    if n < 0:\n",
        "        return -1\n",
        "    elif n == 0:\n",
        "        return 1\n",
        "    else:\n",
        "        return n * factorial(n-1)\n",
        "\n",
        "print(factorial(3))"
      ],
      "metadata": {
        "colab": {
          "base_uri": "https://localhost:8080/"
        },
        "id": "H9MdEJNh4WFh",
        "outputId": "ea584a51-592b-43d3-e4a4-e559380809d1"
      },
      "execution_count": 11,
      "outputs": [
        {
          "output_type": "stream",
          "name": "stdout",
          "text": [
            "6\n"
          ]
        }
      ]
    },
    {
      "cell_type": "code",
      "source": [
        "#Question9\n",
        "def allFib(n):\n",
        "    for i in range(n):\n",
        "        print(str(i)+\":, \" + str(fib(i)))\n",
        "\n",
        "def fib(n):\n",
        "    if n <= 0:\n",
        "        return 0\n",
        "    elif n == 1:\n",
        "        return 1\n",
        "    return fib(n-1) + fib(n-2)\n",
        "\n",
        "\n",
        "allFib(4)"
      ],
      "metadata": {
        "colab": {
          "base_uri": "https://localhost:8080/"
        },
        "id": "FDjhV2EX4Z3T",
        "outputId": "25c675ea-cef3-4c6d-d35a-d6f2cb0a4410"
      },
      "execution_count": 12,
      "outputs": [
        {
          "output_type": "stream",
          "name": "stdout",
          "text": [
            "0:, 0\n",
            "1:, 1\n",
            "2:, 1\n",
            "3:, 2\n"
          ]
        }
      ]
    },
    {
      "cell_type": "code",
      "source": [
        "#Question10\n",
        "def powersOf2(n):\n",
        "    # print(\"n:\"+str(n))\n",
        "    if n < 1:\n",
        "        return 0\n",
        "    elif n == 1:\n",
        "        print(1)\n",
        "        return 1\n",
        "    else:\n",
        "        prev = powersOf2(int(n/2))\n",
        "        # print(\"prev:\"+str(prev))\n",
        "        print(prev)\n",
        "        curr = prev*2\n",
        "        print(curr)\n",
        "        return curr\n",
        "\n",
        "powersOf2(50)"
      ],
      "metadata": {
        "colab": {
          "base_uri": "https://localhost:8080/"
        },
        "id": "RNwEtFvF4gWp",
        "outputId": "3bcc6bee-2a18-4d17-adb6-7730f9edb1fe"
      },
      "execution_count": 13,
      "outputs": [
        {
          "output_type": "stream",
          "name": "stdout",
          "text": [
            "1\n",
            "1\n",
            "2\n",
            "2\n",
            "4\n",
            "4\n",
            "8\n",
            "8\n",
            "16\n",
            "16\n",
            "32\n"
          ]
        },
        {
          "output_type": "execute_result",
          "data": {
            "text/plain": [
              "32"
            ]
          },
          "metadata": {},
          "execution_count": 13
        }
      ]
    }
  ]
}